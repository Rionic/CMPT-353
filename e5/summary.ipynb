{
 "cells": [
  {
   "cell_type": "code",
   "execution_count": 49,
   "metadata": {},
   "outputs": [
    {
     "name": "stdout",
     "output_type": "stream",
     "text": [
      "Data set:  1\n",
      "Mean for x:  8.717696186413818\n",
      "Mean for y:  12.522874034702589\n",
      "Standard deviation for x:  12.09458693659896\n",
      "Standard deviation for y:  6.606680770370137\n",
      "Range for x:  -22.635877790008944 , 35.23705548785129\n",
      "Range for y:  -2.5650878326932127 , 27.38415261152477\n",
      "Correlation coefficient:  0.9503256954375489\n",
      "Data set:  2\n",
      "Mean for x:  -0.7107871267159582\n",
      "Mean for y:  -0.7489869764497992\n",
      "Standard deviation for x:  11.424031427941332\n",
      "Standard deviation for y:  6.226549791205469\n",
      "Range for x:  -33.2711130771198 , 27.6470003722073\n",
      "Range for y:  -18.621803760419066 , 14.147314992317481\n",
      "Correlation coefficient:  0.9551531665750372\n",
      "Data set:  3\n",
      "Mean for x:  0.9689074904200942\n",
      "Mean for y:  8.50853523664133\n",
      "Standard deviation for x:  2.2318288211623574\n",
      "Standard deviation for y:  1.1473837107336815\n",
      "Range for x:  -2.4490643296742807 , 4.51888491755363\n",
      "Range for y:  6.641734490391762 , 10.551871022804317\n",
      "Correlation coefficient:  0.9819372646760665\n",
      "Data set:  4\n",
      "Mean for x:  49.90508614830509\n",
      "Mean for y:  18.55383652542372\n",
      "Standard deviation for x:  28.38755430203193\n",
      "Standard deviation for y:  16.4756375419362\n",
      "Range for x:  0.0 , 87.3767\n",
      "Range for y:  0.0 , 44.56504\n",
      "Correlation coefficient:  -0.08119306735490817\n",
      "Data set:  5\n",
      "Mean for x:  49.90999357843096\n",
      "Mean for y:  18.55552493772909\n",
      "Standard deviation for x:  28.378981284825986\n",
      "Standard deviation for y:  16.470559057583237\n",
      "Range for x:  4.337892453674525 , 91.0528633396976\n",
      "Range for y:  0.05549750758115175 , 49.93419703633311\n",
      "Correlation coefficient:  -0.08823598983058882\n",
      "Data set:  6\n",
      "Mean for x:  7.2161551796099195\n",
      "Mean for y:  7.6022150282372944\n",
      "Standard deviation for x:  11.861841302343018\n",
      "Standard deviation for y:  11.70541274804915\n",
      "Range for x:  -24.33382075234097 , 35.402138910929\n",
      "Range for y:  -22.9563569970746 , 36.07987403078143\n",
      "Correlation coefficient:  0.9350685662094907\n"
     ]
    }
   ],
   "source": [
    "import pandas as pd\n",
    "import numpy as np\n",
    "from scipy import stats\n",
    "\n",
    "for i in range(1,7):\n",
    "    df = pd.read_csv('data-' + str(i) + '.csv')\n",
    "    print(\"Data set: \", i)\n",
    "    print(\"Mean for x: \", np.mean(df.x))\n",
    "    print(\"Mean for y: \", np.mean(df.y))\n",
    "    print(\"Standard deviation for x: \", np.std(df.x))\n",
    "    print(\"Standard deviation for y: \", np.std(df.y))\n",
    "    print(\"Range for x: \", min(df.x), \",\", max(df.x))\n",
    "    print(\"Range for y: \", min(df.y), \",\", max(df.y))\n",
    "    print(\"Correlation coefficient: \", stats.pearsonr(df.x,df.y)[0])\n"
   ]
  },
  {
   "cell_type": "code",
   "execution_count": null,
   "metadata": {},
   "outputs": [],
   "source": []
  },
  {
   "cell_type": "code",
   "execution_count": null,
   "metadata": {},
   "outputs": [],
   "source": []
  }
 ],
 "metadata": {
  "kernelspec": {
   "display_name": "Python 3",
   "language": "python",
   "name": "python3"
  },
  "language_info": {
   "codemirror_mode": {
    "name": "ipython",
    "version": 3
   },
   "file_extension": ".py",
   "mimetype": "text/x-python",
   "name": "python",
   "nbconvert_exporter": "python",
   "pygments_lexer": "ipython3",
   "version": "3.8.3"
  }
 },
 "nbformat": 4,
 "nbformat_minor": 4
}

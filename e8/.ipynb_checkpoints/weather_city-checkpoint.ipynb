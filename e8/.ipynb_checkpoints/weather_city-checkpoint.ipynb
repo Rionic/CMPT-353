{
 "cells": [
  {
   "cell_type": "code",
   "execution_count": 123,
   "metadata": {},
   "outputs": [
    {
     "name": "stdout",
     "output_type": "stream",
     "text": [
      "0.7620689655172413\n",
      "              truth      prediction\n",
      "2    Raleigh Durham         Atlanta\n",
      "4           Calgary        Edmonton\n",
      "6          Portland         Seattle\n",
      "8           Chicago   Atlantic City\n",
      "9           Toronto          Ottawa\n",
      "..              ...             ...\n",
      "272         Atlanta  Raleigh Durham\n",
      "274         Halifax         Toronto\n",
      "283       Vancouver        Victoria\n",
      "284          Ottawa          Québec\n",
      "287          Ottawa          London\n",
      "\n",
      "[69 rows x 2 columns]\n"
     ]
    }
   ],
   "source": [
    "import numpy as np\n",
    "import pandas as pd\n",
    "import matplotlib.pyplot as plt\n",
    "from skimage.color import lab2rgb\n",
    "from sklearn.model_selection import train_test_split\n",
    "from sklearn.naive_bayes import GaussianNB\n",
    "from skimage.color import rgb2lab\n",
    "from sklearn.preprocessing import FunctionTransformer\n",
    "from sklearn.preprocessing import StandardScaler\n",
    "from sklearn.pipeline import make_pipeline\n",
    "import sys\n",
    "from sklearn.neighbors import KNeighborsClassifier\n",
    "from sklearn.ensemble import RandomForestClassifier\n",
    "\n",
    "\n",
    "df = pd.read_csv('monthly-data-labelled.csv')\n",
    "df2 = pd.read_csv('monthly-data-unlabelled.csv')\n",
    "\n",
    "y = df.city.values\n",
    "X = df.iloc[:,2:].values\n",
    "X2 = df2.iloc[:,2:].values\n",
    "X_train, X_valid, y_train, y_valid = train_test_split(X, y)\n",
    "model = make_pipeline(StandardScaler(), RandomForestClassifier())\n",
    "model.fit(X_train, y_train)\n",
    "print(model.score(X_valid, y_valid))\n",
    "predictions = model.predict(X2)\n"
   ]
  },
  {
   "cell_type": "code",
   "execution_count": null,
   "metadata": {},
   "outputs": [],
   "source": []
  },
  {
   "cell_type": "code",
   "execution_count": null,
   "metadata": {},
   "outputs": [],
   "source": []
  }
 ],
 "metadata": {
  "kernelspec": {
   "display_name": "Python 3",
   "language": "python",
   "name": "python3"
  },
  "language_info": {
   "codemirror_mode": {
    "name": "ipython",
    "version": 3
   },
   "file_extension": ".py",
   "mimetype": "text/x-python",
   "name": "python",
   "nbconvert_exporter": "python",
   "pygments_lexer": "ipython3",
   "version": "3.8.3"
  }
 },
 "nbformat": 4,
 "nbformat_minor": 4
}

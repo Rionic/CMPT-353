{
 "cells": [
  {
   "cell_type": "code",
   "execution_count": 10,
   "metadata": {},
   "outputs": [
    {
     "name": "stdout",
     "output_type": "stream",
     "text": [
      "0      0.034291\n",
      "1      0.029007\n",
      "2      0.029715\n",
      "3      0.029587\n",
      "4      0.034872\n",
      "         ...   \n",
      "195    0.028239\n",
      "196    0.031915\n",
      "197    0.029989\n",
      "198    0.028996\n",
      "199    0.031010\n",
      "Name: qs1, Length: 200, dtype: float64\n",
      "anova p-value of 0.0 means that there is a difference amongst\n",
      "the means of the algorithms and we can conduct a post-hoc analysis\n",
      "\n",
      "            variable     value\n",
      "0                qs1  0.034291\n",
      "1                qs1  0.029007\n",
      "2                qs1  0.029715\n",
      "3                qs1  0.029587\n",
      "4                qs1  0.034872\n",
      "...              ...       ...\n",
      "1395  partition_sort  0.023901\n",
      "1396  partition_sort  0.019989\n",
      "1397  partition_sort  0.020652\n",
      "1398  partition_sort  0.023941\n",
      "1399  partition_sort  0.020964\n",
      "\n",
      "[1400 rows x 2 columns]\n",
      "        Multiple Comparison of Means - Tukey HSD, FWER=0.50         \n",
      "====================================================================\n",
      "    group1         group2     meandiff p-adj   lower   upper  reject\n",
      "--------------------------------------------------------------------\n",
      "        merge1 partition_sort  -0.0311  0.001 -0.0323 -0.0298   True\n",
      "        merge1            qs1  -0.0221  0.001 -0.0234 -0.0208   True\n",
      "        merge1            qs2  -0.0052  0.001 -0.0065 -0.0039   True\n",
      "        merge1            qs3   -0.006  0.001 -0.0073 -0.0047   True\n",
      "        merge1            qs4  -0.0062  0.001 -0.0075  -0.005   True\n",
      "        merge1            qs5  -0.0051  0.001 -0.0063 -0.0038   True\n",
      "partition_sort            qs1   0.0089  0.001  0.0076  0.0102   True\n",
      "partition_sort            qs2   0.0258  0.001  0.0246  0.0271   True\n",
      "partition_sort            qs3    0.025  0.001  0.0237  0.0263   True\n",
      "partition_sort            qs4   0.0248  0.001  0.0235  0.0261   True\n",
      "partition_sort            qs5    0.026  0.001  0.0247  0.0273   True\n",
      "           qs1            qs2   0.0169  0.001  0.0156  0.0182   True\n",
      "           qs1            qs3   0.0161  0.001  0.0148  0.0174   True\n",
      "           qs1            qs4   0.0159  0.001  0.0146  0.0172   True\n",
      "           qs1            qs5   0.0171  0.001  0.0158  0.0184   True\n",
      "           qs2            qs3  -0.0008 0.8962 -0.0021  0.0005  False\n",
      "           qs2            qs4   -0.001 0.7153 -0.0023  0.0003  False\n",
      "           qs2            qs5   0.0002    0.9 -0.0011  0.0014  False\n",
      "           qs3            qs4  -0.0002    0.9 -0.0015  0.0011  False\n",
      "           qs3            qs5    0.001 0.7633 -0.0003  0.0023  False\n",
      "           qs4            qs5   0.0012 0.5824 -0.0001  0.0025  False\n",
      "--------------------------------------------------------------------\n",
      "qs1 mean running time: 0.031447451114654544\n",
      "qs2 mean running time: 0.048366472721099854\n",
      "qs3 mean running time: 0.047545406818389896\n",
      "qs4 mean running time: 0.0473337972164154\n",
      "qs5 mean running time: 0.04852198958396912\n",
      "merge1 mean running time: 0.05357699155807495\n",
      "partition_sort mean running time: 0.022519431114196777\n",
      "\n",
      "All pairs have distinguishable different mean running times except pairs\n",
      "(qs2, qs3), (qs2, qs4), (qs2, qs5), (qs3, qs4), and (qs3, qs5)\n",
      "fastest algorithms in descending order are:\n",
      "partition_sort, qs1, qs4, qs3, qs2, qs5, merge1\n"
     ]
    },
    {
     "data": {
      "image/png": "[encoded data removed]",
      "text/plain": [
       "<Figure size 720x432 with 1 Axes>"
      ]
     },
     "metadata": {
      "needs_background": "light"
     },
     "output_type": "display_data"
    }
   ],
   "source": [
    "import pandas as pd\n",
    "import numpy as np\n",
    "import matplotlib.pyplot as plt\n",
    "from scipy import stats\n",
    "from statsmodels.stats.multicomp import pairwise_tukeyhsd\n",
    "import sys\n",
    "\n",
    "df = pd.read_csv('data.csv')\n",
    "\n",
    "anova = stats.f_oneway(df.qs1, df.qs2, df.qs3, df.qs4, df.qs5, df.merge1, df.partition_sort)\n",
    "melt = pd.melt(df)\n",
    "print(\"anova p-value of\", anova.pvalue, \"means that there is a difference amongst\")\n",
    "print(\"the means of the algorithms and we can conduct a post-hoc analysis\")\n",
    "print()\n",
    "posthoc = pairwise_tukeyhsd(melt['value'], melt['variable'], alpha=0.5)\n",
    "print(posthoc)\n",
    "fig = posthoc.plot_simultaneous()\n",
    "print('qs1 mean running time:', df.qs1.mean())\n",
    "print('qs2 mean running time:', df.qs2.mean())\n",
    "print('qs3 mean running time:', df.qs3.mean())\n",
    "print('qs4 mean running time:', df.qs4.mean())\n",
    "print('qs5 mean running time:', df.qs5.mean())\n",
    "print('merge1 mean running time:', df.merge1.mean())\n",
    "print('partition_sort mean running time:', df.partition_sort.mean())\n",
    "print()\n",
    "print('All pairs have distinguishable different mean running times except pairs') \n",
    "print('(qs2, qs3), (qs2, qs4), (qs2, qs5), (qs3, qs4), and (qs3, qs5)')\n",
    "print('fastest algorithms in descending order are:')\n",
    "print('partition_sort, qs1, qs4, qs3, qs2, qs5, merge1')"
   ]
  },
  {
   "cell_type": "code",
   "execution_count": null,
   "metadata": {},
   "outputs": [],
   "source": []
  }
 ],
 "metadata": {
  "kernelspec": {
   "display_name": "Python 3",
   "language": "python",
   "name": "python3"
  },
  "language_info": {
   "codemirror_mode": {
    "name": "ipython",
    "version": 3
   },
   "file_extension": ".py",
   "mimetype": "text/x-python",
   "name": "python",
   "nbconvert_exporter": "python",
   "pygments_lexer": "ipython3",
   "version": "3.8.3"
  }
 },
 "nbformat": 4,
 "nbformat_minor": 4
}

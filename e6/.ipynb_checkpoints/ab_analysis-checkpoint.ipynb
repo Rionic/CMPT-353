{
 "cells": [
  {
   "cell_type": "code",
   "execution_count": 35,
   "metadata": {},
   "outputs": [
    {
     "ename": "TypeError",
     "evalue": "'Int64Index' object is not callable",
     "output_type": "error",
     "traceback": [
      "\u001b[1;31m---------------------------------------------------------------------------\u001b[0m",
      "\u001b[1;31mTypeError\u001b[0m                                 Traceback (most recent call last)",
      "\u001b[1;32m<ipython-input-35-259748e71a76>\u001b[0m in \u001b[0;36m<module>\u001b[1;34m\u001b[0m\n\u001b[0;32m     18\u001b[0m \u001b[0mold_searches\u001b[0m \u001b[1;33m=\u001b[0m \u001b[0mold_users\u001b[0m\u001b[1;33m[\u001b[0m\u001b[0mold_users\u001b[0m\u001b[1;33m[\u001b[0m\u001b[1;34m'search_count'\u001b[0m\u001b[1;33m]\u001b[0m\u001b[1;33m>\u001b[0m\u001b[1;36m0\u001b[0m\u001b[1;33m]\u001b[0m\u001b[1;33m\u001b[0m\u001b[1;33m\u001b[0m\u001b[0m\n\u001b[0;32m     19\u001b[0m \u001b[0mold_searches\u001b[0m\u001b[1;33m\u001b[0m\u001b[1;33m\u001b[0m\u001b[0m\n\u001b[1;32m---> 20\u001b[1;33m \u001b[0mlen\u001b[0m\u001b[1;33m(\u001b[0m\u001b[0mold_users\u001b[0m\u001b[1;33m.\u001b[0m\u001b[0mindex\u001b[0m\u001b[1;33m(\u001b[0m\u001b[1;33m)\u001b[0m\u001b[1;33m)\u001b[0m\u001b[1;33m\u001b[0m\u001b[1;33m\u001b[0m\u001b[0m\n\u001b[0m",
      "\u001b[1;31mTypeError\u001b[0m: 'Int64Index' object is not callable"
     ]
    }
   ],
   "source": [
    "import pandas as pd\n",
    "import numpy as np\n",
    "import sys\n",
    "\n",
    "OUTPUT_TEMPLATE = (\n",
    "    '\"Did more/less users use the search feature?\" p-value:  {more_users_p:.3g}\\n'\n",
    "    '\"Did users search more/less?\" p-value:  {more_searches_p:.3g} \\n'\n",
    "    '\"Did more/less instructors use the search feature?\" p-value:  {more_instr_p:.3g}\\n'\n",
    "    '\"Did instructors search more/less?\" p-value:  {more_instr_searches_p:.3g}'\n",
    ")\n",
    "\n",
    "searchdata_file = 'searches.json'\n",
    "\n",
    "df = pd.read_json(searchdata_file, orient='records', lines=True)\n",
    "new_users = df[df['uid']%2==1]\n",
    "old_users = df[df['uid']%2==0]\n",
    "new_searches = new_users[new_users['search_count']>0]\n",
    "old_searches = old_users[old_users['search_count']>0]\n",
    "old_searches\n",
    "len(old_users.index)"
   ]
  },
  {
   "cell_type": "code",
   "execution_count": null,
   "metadata": {
    "collapsed": true
   },
   "outputs": [],
   "source": []
  }
 ],
 "metadata": {
  "kernelspec": {
   "display_name": "Python 3",
   "language": "python",
   "name": "python3"
  },
  "language_info": {
   "codemirror_mode": {
    "name": "ipython",
    "version": 3
   },
   "file_extension": ".py",
   "mimetype": "text/x-python",
   "name": "python",
   "nbconvert_exporter": "python",
   "pygments_lexer": "ipython3",
   "version": "3.8.3"
  }
 },
 "nbformat": 4,
 "nbformat_minor": 4
}

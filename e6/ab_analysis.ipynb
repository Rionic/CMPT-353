{
 "cells": [
  {
   "cell_type": "code",
   "execution_count": 8,
   "metadata": {},
   "outputs": [
    {
     "data": {
      "text/plain": [
       "0.07059103623543486"
      ]
     },
     "execution_count": 8,
     "metadata": {},
     "output_type": "execute_result"
    }
   ],
   "source": [
    "import pandas as pd\n",
    "import numpy as np\n",
    "import matplotlib.pyplot as plt\n",
    "from scipy import stats\n",
    "import sys\n",
    "\n",
    "OUTPUT_TEMPLATE = (\n",
    "    '\"Did more/less users use the search feature?\" p-value:  {more_users_p:.3g}\\n'\n",
    "    '\"Did users search more/less?\" p-value:  {more_searches_p:.3g} \\n'\n",
    "    '\"Did more/less instructors use the search feature?\" p-value:  {more_instr_p:.3g}\\n'\n",
    "    '\"Did instructors search more/less?\" p-value:  {more_instr_searches_p:.3g}'\n",
    ")\n",
    "\n",
    "searchdata_file = 'searches.json'\n",
    "\n",
    "\n",
    "df = pd.read_json(searchdata_file, orient='records', lines=True)\n",
    "\n",
    "new_users = df[df['uid']%2==1]\n",
    "old_users = df[df['uid']%2==0]\n",
    "\n",
    "new_searches = new_users[new_users['search_count']>0]\n",
    "old_searches = old_users[old_users['search_count']>0]\n",
    "\n",
    "new_zero = new_users[new_users['search_count']==0]\n",
    "old_zero = old_users[old_users['search_count']==0]\n",
    "\n",
    "contingency = [[len(new_searches.index), len(new_zero.index)],\n",
    "               [len(old_searches.index), len(old_zero.index)]]\n",
    "chi2, p, dof, expected = stats.chi2_contingency(contingency)\n",
    "p\n",
    "stats.mannwhitneyu(new_users.search_count, old_users.search_count).pvalue"
   ]
  },
  {
   "cell_type": "code",
   "execution_count": 200,
   "metadata": {},
   "outputs": [
    {
     "data": {
      "text/plain": [
       "(array([70., 20., 15.,  8.,  1.,  2.,  0.,  0.,  3.,  1.]),\n",
       " array([0. , 0.9, 1.8, 2.7, 3.6, 4.5, 5.4, 6.3, 7.2, 8.1, 9. ]),\n",
       " <a list of 10 Patch objects>)"
      ]
     },
     "execution_count": 200,
     "metadata": {},
     "output_type": "execute_result"
    },
    {
     "data": {
      "image/png": "[encoded data removed]",
      "text/plain": [
       "<Figure size 432x288 with 1 Axes>"
      ]
     },
     "metadata": {
      "needs_background": "light"
     },
     "output_type": "display_data"
    }
   ],
   "source": [
    "new_instructors = new_users[new_users['is_instructor']==True]\n",
    "old_instructors = old_users[old_users['is_instructor']==True]\n",
    "\n",
    "new_instructor_searches = new_instructors[new_instructors['search_count']>0]\n",
    "old_instructor_searches = old_instructors[old_instructors['search_count']>0]\n",
    "\n",
    "new_instructor_zero = new_instructors[new_instructors['search_count']==0]\n",
    "old_instructor_zero = old_instructors[old_instructors['search_count']==0]\n",
    "contingency2 = [[len(new_instructor_searches.index), len(new_instructor_zero.index)],\n",
    "                [len(old_instructor_searches.index), len(old_instructor_zero.index)]]\n",
    "chi3, p2, dof2, expected2 = stats.chi2_contingency(contingency2)\n",
    "p2\n",
    "stats.mannwhitneyu(new_instructors.search_count, old_instructors.search_count).pvalue\n",
    "plt.hist(new_instructors.search_count)\n",
    "plt.hist(old_instructors.search_count)"
   ]
  },
  {
   "cell_type": "code",
   "execution_count": null,
   "metadata": {},
   "outputs": [],
   "source": []
  }
 ],
 "metadata": {
  "kernelspec": {
   "display_name": "Python 3",
   "language": "python",
   "name": "python3"
  },
  "language_info": {
   "codemirror_mode": {
    "name": "ipython",
    "version": 3
   },
   "file_extension": ".py",
   "mimetype": "text/x-python",
   "name": "python",
   "nbconvert_exporter": "python",
   "pygments_lexer": "ipython3",
   "version": "3.8.3"
  }
 },
 "nbformat": 4,
 "nbformat_minor": 4
}
